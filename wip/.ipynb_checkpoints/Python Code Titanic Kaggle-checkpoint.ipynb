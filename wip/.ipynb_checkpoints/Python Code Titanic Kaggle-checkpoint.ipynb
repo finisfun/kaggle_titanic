{
 "cells": [
  {
   "cell_type": "code",
   "execution_count": null,
   "metadata": {},
   "outputs": [],
   "source": [
    "### Kaggle competition\n",
    "### Titanic Problem\n",
    "### Files downloaded on 09-Feb-2020\n",
    "###################################\n",
    "\n",
    "### Use train.csv for training (12 columns including actual outcome)\n",
    "### Use test.csv for predictions(11 variables)\n",
    "### Use gender_submission.csv for format for submission\n",
    "\n",
    "### survival ==> 0=No; 1=Yes\n",
    "\n",
    "### pclass ==> Ticket Class (also represents the SES) ==> 1 = 1st (upper class), 2 = 2nd (middle class), 3 = 3rd (lower class)\n",
    "\n",
    "### sex ==> SEX\n",
    "\n",
    "### Age ==> Age is fractional if less than 1. If the age is estimated, is it in the form of xx.5\n",
    "\n",
    "### sibsp ==> # of siblings / spouses aboard the Titanic\n",
    "###### Sibling = brother, sister, stepbrother, stepsister\n",
    "###### Spouse = husband, wife (mistresses and fiancés were ignored)\n",
    "\n",
    "### parch ==> # of parents / children aboard the Titanic\n",
    "###### Parent = mother, father\n",
    "###### Child = daughter, son, stepdaughter, stepson\n",
    "###### Some children travelled only with a nanny, therefore parch=0 for them.\n",
    "\n",
    "### ticket ==> Ticket number\n",
    "\n",
    "### fare ==> Passenger fare\n",
    "\n",
    "### cabin ==> Cabin number\n",
    "\n",
    "### embarked ==> Port of Embarkation ==> C = Cherbourg, Q = Queenstown, S = Southampton\n"
   ]
  }
 ],
 "metadata": {
  "kernelspec": {
   "display_name": "Python 3",
   "language": "python",
   "name": "python3"
  },
  "language_info": {
   "codemirror_mode": {
    "name": "ipython",
    "version": 3
   },
   "file_extension": ".py",
   "mimetype": "text/x-python",
   "name": "python",
   "nbconvert_exporter": "python",
   "pygments_lexer": "ipython3",
   "version": "3.7.4"
  }
 },
 "nbformat": 4,
 "nbformat_minor": 2
}
